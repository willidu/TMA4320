{
 "cells": [
  {
   "cell_type": "markdown",
   "id": "9d09d446",
   "metadata": {},
   "source": [
    "# TMA4320 Introduksjon til vitenskapelige beregninger\n",
    "## Øving 1\n",
    "\n",
    "**Veiledning**: Onsdag 16:15-18:00 i R50, Realfagsbygget og torsdag 14:15-16:00 i rom 256 SB1.  \n",
    "**Innlevering**: Mandag 23.01 kl. 23:59, i [ovsys](https://ovsys.math.ntnu.no).\n",
    "\n",
    "Oppgaven skal innleveres som et Jupyternotat. Men gjør gjerne implementering og koding i Spyder eller et annet IDE, og kopier den ferdige koden inn i Jupyternotatet for innlevering.\n",
    "\n",
    "**NB!** Før innlevering: \n",
    "* Kjør en runde på hele notatet for å se at alt virker: <tt>Kernel -> Restart & Run All</tt>\n",
    "* Deretter: <tt>Kernel -> Restart & Clear Output</tt>. Fila er nå klar for innlevering. "
   ]
  },
  {
   "cell_type": "markdown",
   "id": "665ada6a",
   "metadata": {},
   "source": [
    "### Oppgave 1 (Feilsøking og retting. Dokumentasjon).\n",
    "\n",
    "I denne oppgaven skal du beregne tilnærmelser til integraler ved hjelp av [Simpsons metode](https://wiki.math.ntnu.no/tma4100/tema/numerics?&#numerisk_integrasjon)\n",
    "\n",
    "\\begin{equation}\n",
    "\\int_a^b f(x)\\mathrm{d}x \\simeq S_{n} = \\frac{h}{3}\\left( f(x_0)+4\\sum_{i=1}^{n/2}f(x_{2i-1}) + 2\\sum_{i=1}^{n/2-1} f(x_{2i}) + f(x_{n}) \\right)\n",
    "\\end{equation}\n",
    "der $h=(b-a)/n$, der $n$ må være et like tall, og $x_i=a+ih$.\n",
    "\n",
    "Under er det et forslag til en kode, skrevet etter prinsippet raskt og gæli. Oppgaven går ut på: \n",
    "\n",
    "* Debug koden, både for syntaksfeil og logiske feil. Kan den forbedres på andre måter?\n",
    "* Skriv den om til en funksjon. Test funksjonen på et passende utvalg med testproblemer. \n",
    "* Dokumenter koden. \n",
    "\n",
    "Forslag til testproblemer med kjent løsning.\n",
    "\n",
    "1. $\\int_1^2 x^2\\mathrm{d}x = 7/3$. I dette tilfellet skal Simpsons formel levere et eksakt resultat. (Hvorfor?)\n",
    "2. $\\int_0^{\\pi/2} \\sin{x} \\mathrm{d}x = 1$. \n",
    "\n",
    "Finn gjerne på noen egne testproblemer også. \n",
    "\n",
    "**Hint**\n",
    "* Er det problemer med logiske feil, sett $n=2$, utfør regningene på papir, og sammenlign med hva som skjer i koden. \n",
    "* Flytt koden over til Spyder eller en annen IDE, og debug koden der. "
   ]
  },
  {
   "cell_type": "code",
   "execution_count": 1,
   "id": "86212291",
   "metadata": {},
   "outputs": [],
   "source": [
    "import numpy as np\n",
    "import matplotlib.pyplot as plt\n",
    "from scipy.integrate import quad"
   ]
  },
  {
   "cell_type": "code",
   "execution_count": 2,
   "id": "4dae1b47",
   "metadata": {},
   "outputs": [
    {
     "name": "stdout",
     "output_type": "stream",
     "text": [
      "2.3333333333333335\n"
     ]
    }
   ],
   "source": [
    "# Debugging av gitt kode:\n",
    "\n",
    "def f(x):\n",
    "    return x ** 2\n",
    "a = 1\n",
    "b = 2\n",
    "\n",
    "n = 4\n",
    "h = (b-a)/n\n",
    "S = f(a)\n",
    "\n",
    "for i in range(1,int(n/2)+1):\n",
    "    x = a+(2*i-1)*h\n",
    "    S = S + 4*f(x)\n",
    "for i in range(1, int(n/2)):\n",
    "    x = a+2*i*h\n",
    "    S = S + 2*f(x)\n",
    "S = S + f(b)\n",
    "S = h*S/3\n",
    "\n",
    "print(S)"
   ]
  },
  {
   "cell_type": "code",
   "execution_count": 3,
   "id": "160c3ba3",
   "metadata": {},
   "outputs": [],
   "source": [
    "def simpson(f, a, b, n=4):\n",
    "    \"\"\"\n",
    "    Implementation of Simpsons method of function f from a to b.\n",
    "\n",
    "    Parameters\n",
    "    ----------\n",
    "    f : callable\n",
    "        Function f(x) -> R\n",
    "    a : float\n",
    "        Lower integration boundary\n",
    "    b : float\n",
    "        Upper integration boundary\n",
    "    n : float\n",
    "        Approximation order. Default 4. Needs to be even!\n",
    "\n",
    "    Returns\n",
    "    -------\n",
    "    float\n",
    "        Integration approximation\n",
    "    \"\"\"\n",
    "    assert n % 2 == 0, 'n needs to be even'\n",
    "\n",
    "    h = (b - a) / n\n",
    "    s = f(a)\n",
    "\n",
    "    for i in range(1, int(n/2)+1):\n",
    "        x = a + (2 * i - 1) * h\n",
    "        s += 4 * f(x)\n",
    "\n",
    "    for i in range(1, int(n/2)):\n",
    "        x = a + 2 * i * h\n",
    "        s += 2 * f(x)\n",
    "\n",
    "    s += f(b)\n",
    "\n",
    "    return s * h / 3"
   ]
  },
  {
   "cell_type": "code",
   "execution_count": 4,
   "id": "9648e196",
   "metadata": {},
   "outputs": [],
   "source": [
    "# Eksempel 1\n",
    "def test_simpson_polynomial():\n",
    "    result = simpson(f=lambda x: x ** 2, a=1, b=2, n=2)\n",
    "    analytic_result = 7. / 3.\n",
    "    assert np.abs(result - analytic_result) < 1e-5, 'Result not correct to relative error 1e-5.'\n",
    "\n",
    "test_simpson_polynomial()"
   ]
  },
  {
   "cell_type": "code",
   "execution_count": 5,
   "id": "c801be75",
   "metadata": {},
   "outputs": [],
   "source": [
    "# Eksempel 2\n",
    "def test_simpson_sin():\n",
    "    result = simpson(np.sin, a=0, b=np.pi/2, n=10)\n",
    "    analytic_result = 1.\n",
    "    assert np.abs(result - analytic_result) < 1e-5, 'Result not correct to relative error 1e-5.'\n",
    "\n",
    "test_simpson_sin()"
   ]
  },
  {
   "cell_type": "markdown",
   "id": "ba2efd27",
   "metadata": {},
   "source": [
    "### Oppgave 2 (Numpy)\n",
    "\n",
    "Implementer Simpsons metode igjen, men denne gangen ved bruk av numpy. For eksempel ved: \n",
    "* Lag et array av gridpunktene $\\{x_i\\}_{i=0}^n$ ved bruk av <tt>np.linspace</tt>\n",
    "* For de to summene i uttrykket for Simpson's metode: Plukk ut de riktige gridpunktene $x_i$, finn funksjonsverdien av disse, og bruk <tt>np.sum</tt>. \n",
    "* Legg til funksjonsverdiene i de to endepunktene, multipliser med $h/3$.  "
   ]
  },
  {
   "cell_type": "code",
   "execution_count": 6,
   "id": "db13202a",
   "metadata": {},
   "outputs": [],
   "source": [
    "def simpson_numpy(f, a, b, n=4):\n",
    "    \"\"\"\n",
    "    Implementation of Simpsons method of function f from a to b.\n",
    "\n",
    "    Parameters\n",
    "    ----------\n",
    "    f : callable\n",
    "        Function f(x) -> R\n",
    "    a : float\n",
    "        Lower integration boundary\n",
    "    b : float\n",
    "        Upper integration boundary\n",
    "    n : float\n",
    "        Approximation order. Default 4. Needs to be even!\n",
    "\n",
    "    Returns\n",
    "    -------\n",
    "    float\n",
    "        Integration approximation\n",
    "    \"\"\"\n",
    "    assert n % 2 == 0, 'n needs to be even'\n",
    "\n",
    "    x = np.linspace(a, b, n+1)\n",
    "    fx = f(x)\n",
    "\n",
    "    return (b - a) * (\n",
    "        fx[0]\n",
    "        + 4 * np.sum(fx[1:n:2])\n",
    "        + 2 * np.sum(fx[2:n-1:2])\n",
    "        + fx[-1]\n",
    "    ) / (3 * n)"
   ]
  },
  {
   "cell_type": "code",
   "execution_count": 7,
   "id": "1618d829",
   "metadata": {},
   "outputs": [],
   "source": [
    "# Eksempel 1 med numpy\n",
    "def test_simpson_polynomial_numpy():\n",
    "    result = simpson_numpy(f=lambda x: x ** 2, a=1, b=2, n=2)\n",
    "    analytic_result = 7. / 3.\n",
    "    assert np.abs(result - analytic_result) < 1e-5, 'Result not correct to relative error 1e-5.'\n",
    "\n",
    "test_simpson_polynomial_numpy()"
   ]
  },
  {
   "cell_type": "code",
   "execution_count": 8,
   "id": "68a67cb3",
   "metadata": {},
   "outputs": [],
   "source": [
    "# Eksempel 2 med numpy\n",
    "def test_simpson_sin_numpy():\n",
    "    result = simpson_numpy(np.sin, a=0, b=np.pi/2., n=10)\n",
    "    analytic_result = 1.\n",
    "    assert np.abs(result - analytic_result) < 1e-5, 'Result not correct to relative error 1e-5.'\n",
    "\n",
    "test_simpson_sin_numpy()"
   ]
  },
  {
   "cell_type": "markdown",
   "id": "afe94d29",
   "metadata": {},
   "source": [
    "### Oppgave 3 (Bruk av biblioteksrutiner)\n",
    "Gitt funksjonen\n",
    "\\begin{equation}\n",
    "f(x) = \\frac{1}{(x-5)^2+0.2} + \\frac{1}{(x-2)^2+0.05} + 2.\n",
    "\\end{equation}\n",
    "\n",
    "* Plot funksjonen over intervallet $[-2,8]$.\n",
    "* Finn en tilnærmelse til integralet $\\int_{-2}^8f(x)\\mathrm{d}x$ ved bruk av <tt>scipy.integrate.quad</tt>.  \n",
    "  \n",
    "  **Hint!** Les dokumentasjonen. Bla fram til eksemplene."
   ]
  },
  {
   "cell_type": "code",
   "execution_count": 9,
   "id": "5649358a",
   "metadata": {},
   "outputs": [
    {
     "data": {
      "image/png": "[encoded data removed]",
      "text/plain": [
       "<Figure size 640x480 with 1 Axes>"
      ]
     },
     "metadata": {},
     "output_type": "display_data"
    }
   ],
   "source": [
    "def f(x):\n",
    "    e1 = 1 / ((x - 5) ** 2 + 0.2)\n",
    "    e2 = 1 / ((x - 2) ** 2 + 0.05)\n",
    "    return e1 + e1 + 2\n",
    "\n",
    "x = np.linspace(-2, 8, 200)\n",
    "plt.plot(x, f(x))\n",
    "plt.xlabel('x')\n",
    "plt.ylabel('f(x)')\n",
    "plt.grid()\n",
    "plt.show()"
   ]
  },
  {
   "cell_type": "code",
   "execution_count": 10,
   "id": "92e116cd",
   "metadata": {},
   "outputs": [
    {
     "name": "stdout",
     "output_type": "stream",
     "text": [
      "Integral approximation [-2, 8]: 33.10\n"
     ]
    }
   ],
   "source": [
    "integral = quad(f, -2, 8)\n",
    "print(f'Integral approximation [-2, 8]: {integral[0]:.2f}')"
   ]
  }
 ],
 "metadata": {
  "kernelspec": {
   "display_name": "Python 3",
   "language": "python",
   "name": "python3"
  },
  "language_info": {
   "codemirror_mode": {
    "name": "ipython",
    "version": 3
   },
   "file_extension": ".py",
   "mimetype": "text/x-python",
   "name": "python",
   "nbconvert_exporter": "python",
   "pygments_lexer": "ipython3",
   "version": "3.10.6"
  },
  "vscode": {
   "interpreter": {
    "hash": "aee8b7b246df8f9039afb4144a1f6fd8d2ca17a180786b69acc140d282b71a49"
   }
  }
 },
 "nbformat": 4,
 "nbformat_minor": 5
}
