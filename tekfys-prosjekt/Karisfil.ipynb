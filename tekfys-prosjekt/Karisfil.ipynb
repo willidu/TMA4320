{
 "cells": [
  {
   "attachments": {},
   "cell_type": "markdown",
   "metadata": {},
   "source": [
    "1a)"
   ]
  },
  {
   "attachments": {},
   "cell_type": "markdown",
   "metadata": {},
   "source": [
    "Ved det kritiske punktet eksisterer to faser samtidig, og dette skjer kun ved en bestemt temperatur, $T_c$, under et bestemt trykk, $p_c$. Dette resulterer i konstante van der Waals-parametre $a$ og $b$, som er gitt ved følgende uttrykk\n",
    "$$\n",
    "a = \\frac{27R^2T_c^2}{64p_c} \\newline\n",
    "b = \\frac{RT_c}{8p_c}\n",
    "$$\n",
    "\n",
    "Her er $R$ den såkalte gasskonstanten, og gitt som $R = 8.314 JK^{-1}mol^{-1}$. Videre finnes $T_c = 647.096 K$ og $p_c = 22.064 MPa$ fra eksperimentelle verdier for $H_2O$.\n",
    "\n",
    "Med dette innsatt i uttrykkene, ender $a$ og $b$ opp slik\n",
    "\n",
    "$$ \n",
    "a = 55.34227553 \\cdot 10^{-2} \\newline\n",
    "b = 30.4793 \\cdot 10^{-6} \n",
    "$$"
   ]
  },
  {
   "attachments": {},
   "cell_type": "markdown",
   "metadata": {},
   "source": [
    "1b)"
   ]
  },
  {
   "cell_type": "code",
   "execution_count": 15,
   "metadata": {},
   "outputs": [
    {
     "data": {
      "image/png": "[encoded data removed]",
      "text/plain": [
       "<Figure size 432x288 with 1 Axes>"
      ]
     },
     "metadata": {
      "needs_background": "light"
     },
     "output_type": "display_data"
    }
   ],
   "source": [
    "import numpy as np\n",
    "import matplotlib.pyplot as plt\n",
    "\n",
    "def vanDerWaals(V = np.linspace(75, 300, 100), R = 8.314, T_c = 647.096, a = 0.5534227553, b = 30.4793*10**(-6)):\n",
    "    p = (R*T_c) / (V-b) - a / V**2\n",
    "    plt.plot(V, p)\n",
    "    plt.xlabel('V / L')\n",
    "    plt.ylabel('p / bar')\n",
    "    plt.grid()\n",
    "    plt.show()\n",
    "\n",
    "vanDerWaals()"
   ]
  }
 ],
 "metadata": {
  "kernelspec": {
   "display_name": "base",
   "language": "python",
   "name": "python3"
  },
  "language_info": {
   "codemirror_mode": {
    "name": "ipython",
    "version": 3
   },
   "file_extension": ".py",
   "mimetype": "text/x-python",
   "name": "python",
   "nbconvert_exporter": "python",
   "pygments_lexer": "ipython3",
   "version": "3.8.8"
  },
  "orig_nbformat": 4
 },
 "nbformat": 4,
 "nbformat_minor": 2
}
