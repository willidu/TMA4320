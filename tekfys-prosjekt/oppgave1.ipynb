{
 "cells": [
  {
   "cell_type": "code",
   "execution_count": null,
   "metadata": {},
   "outputs": [],
   "source": [
    "import numpy as np\n",
    "import matplotlib.pyplot as plt"
   ]
  },
  {
   "attachments": {},
   "cell_type": "markdown",
   "metadata": {},
   "source": [
    "### 1c\n",
    "Løse (14) med Newtons metode mhp. Tc. c = 1 K.\n",
    "\n",
    "Implementering av løser:"
   ]
  },
  {
   "cell_type": "code",
   "execution_count": null,
   "metadata": {},
   "outputs": [],
   "source": [
    "def solve_euler_scalar(f, df, x0, tol=1e-8, maxiter=100):\n",
    "    \"\"\"\n",
    "    Løs en skalar ODE med startverdi x0.\n",
    "\n",
    "    Parametere\n",
    "    ----------\n",
    "    f : funksjon f(x) -> float\n",
    "    df : funksjon f'(x) -> float\n",
    "    x0 : float\n",
    "        Startverdi.\n",
    "    tol : float\n",
    "        Toleranse (stoppkriterie). Standard satt til 10^-8\n",
    "    maxiter : int\n",
    "        Maks antall iterasjoner. Standard satt til 100.\n",
    "\n",
    "    Returnerer\n",
    "    ----------\n",
    "    x : array (n,)\n",
    "        Løsning av ODE med n punkter. \n",
    "        n er enten maxiter eller mindre (gitt av feilkriterie).\n",
    "    \"\"\"\n",
    "    x = np.zeros(maxiter)\n",
    "    x[0] = x0\n",
    "    \n",
    "    for k in range(maxiter-1):\n",
    "        delta = f(x[k]) / df(x[k])\n",
    "        x[k+1] = x[k] - delta\n",
    "\n",
    "        if abs(delta) < tol:\n",
    "            break\n",
    "\n",
    "    return x[:k]"
   ]
  },
  {
   "attachments": {},
   "cell_type": "markdown",
   "metadata": {},
   "source": [
    "Løser lign. (14):"
   ]
  },
  {
   "cell_type": "code",
   "execution_count": null,
   "metadata": {},
   "outputs": [],
   "source": [
    "# Bruker c = 1.\n",
    "\n",
    "def f(T):\n",
    "    \"\"\" Omskrivning av (14). \"\"\"\n",
    "    return np.sinh(2./T) ** 2 - 1\n",
    "\n",
    "def df(T):\n",
    "    \"\"\" Derivasjon av omskrivning av (14). \"\"\"\n",
    "    return -2. * np.sinh(4./T) / T ** 2\n",
    "\n",
    "Tc_anal = 2. / (np.log(1. + np.sqrt(2)))\n",
    "x = solve_euler_scalar(f, df, x0=.5, tol=1e-14)\n",
    "\n",
    "# Merker oss at veldig lav toleranse gir konvergens på få antall steg, nice.\n",
    "\n",
    "plt.plot(x, '--o', label='Newtons metode')\n",
    "plt.axhline(y=Tc_anal, ls='--', c='k', alpha=0.7, label='Analytisk verdi')\n",
    "plt.xlabel('Steg')\n",
    "plt.ylabel('$T_c$ [K]')\n",
    "plt.title('Løsning av (14) med $c = 1$ K')\n",
    "plt.legend()\n",
    "plt.grid()\n",
    "plt.show()"
   ]
  },
  {
   "attachments": {},
   "cell_type": "markdown",
   "metadata": {},
   "source": [
    "- Kommenter plott.\n",
    "- Hvordan påvirker startverdier numerikken. x0 = 0 gir ikke konv. siden sinh(0) - 1 = 0.\n",
    "- Selv om tol er satt veldig lav, konvergerer metoden på få antall steg.\n",
    "\n",
    "### 1d"
   ]
  },
  {
   "cell_type": "code",
   "execution_count": null,
   "metadata": {},
   "outputs": [],
   "source": [
    "err = np.abs(x - Tc_anal)\n",
    "plt.plot(err, '--o')\n",
    "plt.xlabel('Steg')\n",
    "plt.ylabel('$e_i$ [K]')\n",
    "plt.title('Feilberegning')\n",
    "plt.grid()\n",
    "plt.show()"
   ]
  },
  {
   "cell_type": "code",
   "execution_count": null,
   "metadata": {},
   "outputs": [],
   "source": [
    "p = [np.log10(err[i]/err[i-1]) / np.log10(err[i-1]/err[i-2]) for i in range(len(err))]\n",
    "\n",
    "print(f'Konvergensorden qn: {p[-1]:.1f}')\n",
    "\n",
    "plt.plot(p, '--o')\n",
    "plt.xlabel('Step')\n",
    "plt.ylabel('Konvergensorden q [--]')\n",
    "plt.title('Beregning av konvergensorden')\n",
    "plt.grid()\n",
    "plt.show()"
   ]
  },
  {
   "attachments": {},
   "cell_type": "markdown",
   "metadata": {},
   "source": [
    "Vi ser at vi får q = 2 som svarer til kvadratisk konvergens, som var det vi forventet fra metoden.\n",
    "\n",
    "### 1e"
   ]
  }
 ],
 "metadata": {
  "kernelspec": {
   "display_name": "Python 3",
   "language": "python",
   "name": "python3"
  },
  "language_info": {
   "codemirror_mode": {
    "name": "ipython",
    "version": 3
   },
   "file_extension": ".py",
   "mimetype": "text/x-python",
   "name": "python",
   "nbconvert_exporter": "python",
   "pygments_lexer": "ipython3",
   "version": "3.10.6"
  },
  "orig_nbformat": 4
 },
 "nbformat": 4,
 "nbformat_minor": 2
}
